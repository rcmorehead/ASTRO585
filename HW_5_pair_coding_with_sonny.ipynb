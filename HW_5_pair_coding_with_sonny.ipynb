{
 "metadata": {
  "language": "Julia",
  "name": ""
 },
 "nbformat": 3,
 "nbformat_minor": 0,
 "worksheets": [
  {
   "cells": [
    {
     "cell_type": "markdown",
     "metadata": {},
     "source": [
      "##1"
     ]
    },
    {
     "cell_type": "code",
     "collapsed": false,
     "input": [
      "#Robert Driving Sonny Nav\n",
      "function Axb(A::Array{Float64,2},b::Array{Float64,1})\n",
      "  return A*b\n",
      "end"
     ],
     "language": "python",
     "metadata": {},
     "outputs": [
      {
       "metadata": {},
       "output_type": "pyout",
       "prompt_number": 1,
       "text": [
        "Axb (generic function with 1 method)"
       ]
      }
     ],
     "prompt_number": 1
    },
    {
     "cell_type": "code",
     "collapsed": false,
     "input": [
      "A = rand((2,2))\n",
      "b = rand((2))\n"
     ],
     "language": "python",
     "metadata": {},
     "outputs": [
      {
       "metadata": {},
       "output_type": "pyout",
       "prompt_number": 2,
       "text": [
        "2-element Array{Float64,1}:\n",
        " 0.195202 \n",
        " 0.0137894"
       ]
      }
     ],
     "prompt_number": 2
    },
    {
     "cell_type": "code",
     "collapsed": false,
     "input": [
      "print(Axb(A,b),A*b)"
     ],
     "language": "python",
     "metadata": {},
     "outputs": [
      {
       "output_type": "stream",
       "stream": "stdout",
       "text": [
        ".037926200510631315\n",
        ".038401647210526094\n",
        ".037926200510631315\n",
        ".038401647210526094\n"
       ]
      }
     ],
     "prompt_number": 3
    },
    {
     "cell_type": "code",
     "collapsed": false,
     "input": [
      "#Sonny driving, Robert Nav\n",
      "function Axb_2(A::Array{Float64,2},b::Array{Float64,1})\n",
      "    x = zeros(size(b))\n",
      "    for i in 1:length(A[:,1])\n",
      "        for j in 1:length(A[1,:])\n",
      "            x[i] += A[i,j]*b[j]\n",
      "        end\n",
      "    end\n",
      "    return x\n",
      "end"
     ],
     "language": "python",
     "metadata": {},
     "outputs": [
      {
       "metadata": {},
       "output_type": "pyout",
       "prompt_number": 4,
       "text": [
        "Axb_2 (generic function with 1 method)"
       ]
      }
     ],
     "prompt_number": 4
    },
    {
     "cell_type": "code",
     "collapsed": false,
     "input": [
      "print(Axb_2(A,b),A*b)"
     ],
     "language": "python",
     "metadata": {},
     "outputs": [
      {
       "output_type": "stream",
       "stream": "stdout",
       "text": [
        ".037926200510631315\n",
        ".038401647210526094\n",
        ".037926200510631315\n",
        ".038401647210526094\n"
       ]
      }
     ],
     "prompt_number": 5
    },
    {
     "cell_type": "code",
     "collapsed": false,
     "input": [
      "#Sonny driving, Robert Nav\n",
      "function Axb_3(A::Array{Float64,2},b::Array{Float64,1})\n",
      "    x = zeros(size(b))\n",
      "    for j in 1:length(A[1,:])\n",
      "        for i in 1:length(A[:,1])\n",
      "            x[i] += A[i,j]*b[j]\n",
      "        end\n",
      "    end\n",
      "    return x\n",
      "end"
     ],
     "language": "python",
     "metadata": {},
     "outputs": [
      {
       "metadata": {},
       "output_type": "pyout",
       "prompt_number": 6,
       "text": [
        "Axb_3 (generic function with 1 method)"
       ]
      }
     ],
     "prompt_number": 6
    },
    {
     "cell_type": "code",
     "collapsed": false,
     "input": [
      "print(Axb_3(A,b),A*b)"
     ],
     "language": "python",
     "metadata": {},
     "outputs": [
      {
       "output_type": "stream",
       "stream": "stdout",
       "text": [
        ".037926200510631315\n",
        ".038401647210526094\n",
        ".037926200510631315\n",
        ".038401647210526094\n"
       ]
      }
     ],
     "prompt_number": 7
    },
    {
     "cell_type": "markdown",
     "metadata": {},
     "source": [
      "##1d. \n",
      "b will be faster because it is in column major form. "
     ]
    },
    {
     "cell_type": "markdown",
     "metadata": {},
     "source": [
      "##1e. \n",
      "Should be about the same for small matrices as they will fit on the L1 cache so they will be qucik either way.  "
     ]
    },
    {
     "cell_type": "code",
     "collapsed": false,
     "input": [
      "function testing_function(f1,f2,f3,dimension)\n",
      "  A = rand((dimension,dimension))\n",
      "  b = rand((dimension))\n",
      "  println(dimension,\"x\",dimension, \" Matrix\")\n",
      "  println(\"Function 1    Function 2    Function 3\")\n",
      "  println((@elapsed f1(A,b)),\"      \",(@elapsed f2(A,b)),\"      \",(@elapsed f2(A,b)))\n",
      "  println()\n",
      "end"
     ],
     "language": "python",
     "metadata": {},
     "outputs": [
      {
       "metadata": {},
       "output_type": "pyout",
       "prompt_number": 24,
       "text": [
        "testing_function (generic function with 2 methods)"
       ]
      }
     ],
     "prompt_number": 24
    },
    {
     "cell_type": "code",
     "collapsed": false,
     "input": [
      "testing_function(Axb,Axb_2,Axb_3,8)"
     ],
     "language": "python",
     "metadata": {},
     "outputs": [
      {
       "output_type": "stream",
       "stream": "stdout",
       "text": [
        "8x"
       ]
      },
      {
       "output_type": "stream",
       "stream": "stdout",
       "text": [
        "8 Matrix\n",
        "Function 1    Fucntion 2    Function 3\n",
        "5.309e-6      8.636e-6      2.563e-6\n"
       ]
      }
     ],
     "prompt_number": 22
    },
    {
     "cell_type": "code",
     "collapsed": false,
     "input": [
      "for i in [4,8,32,264,512,1024,1025,10000]\n",
      "  testing_function(Axb,Axb_2,Axb_3,i)\n",
      "end"
     ],
     "language": "python",
     "metadata": {},
     "outputs": [
      {
       "output_type": "stream",
       "stream": "stdout",
       "text": [
        "4x"
       ]
      },
      {
       "output_type": "stream",
       "stream": "stdout",
       "text": [
        "4 Matrix\n",
        "Function 1    Function 2    Function 3\n",
        "5.563e-6      8.404e-6      2.382e-6\n",
        "\n",
        "8x8 Matrix\n",
        "Function 1    Function 2    Function 3\n",
        "8.25e-6      8.88e-6      3.158e-6\n",
        "\n",
        "32x32 Matrix\n",
        "Function 1    Function 2    Function 3\n",
        "2.9e-6      1.4245e-5      1.3028e-5\n",
        "\n",
        "264x264 Matrix\n",
        "Function 1    Function 2    Function 3\n",
        "0.000215414      0.000437918      0.000454142\n",
        "\n",
        "512x512 Matrix\n",
        "Function 1    Function 2    Function 3\n",
        "0.000316902      0.005506179      0.003556489\n",
        "\n",
        "1024x1024 Matrix\n",
        "Function 1    Function 2    Function 3\n",
        "0."
       ]
      },
      {
       "output_type": "stream",
       "stream": "stdout",
       "text": [
        "001108759      0.055663694      0.037231006\n",
        "\n",
        "1025x1025 Matrix\n",
        "Function 1    Function 2    Function 3\n",
        "0.00111958      0.040900355      0.022460857\n",
        "\n",
        "10000"
       ]
      },
      {
       "output_type": "stream",
       "stream": "stdout",
       "text": [
        "x10000 Matrix\n",
        "Function 1    Function 2    Function 3\n",
        "0."
       ]
      },
      {
       "output_type": "stream",
       "stream": "stdout",
       "text": [
        "066360157      6.434061486      5.81193967\n",
        "\n"
       ]
      }
     ],
     "prompt_number": 25
    },
    {
     "cell_type": "markdown",
     "metadata": {},
     "source": [
      "Ooopse we got our terminology mixed-up with or rows and columns. "
     ]
    },
    {
     "cell_type": "code",
     "collapsed": false,
     "input": [],
     "language": "python",
     "metadata": {},
     "outputs": []
    }
   ],
   "metadata": {}
  }
 ]
}