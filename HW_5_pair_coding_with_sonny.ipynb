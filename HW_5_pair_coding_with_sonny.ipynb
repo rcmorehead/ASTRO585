{
 "metadata": {
  "language": "Julia",
  "name": ""
 },
 "nbformat": 3,
 "nbformat_minor": 0,
 "worksheets": [
  {
   "cells": [
    {
     "cell_type": "markdown",
     "metadata": {},
     "source": [
      "##1"
     ]
    },
    {
     "cell_type": "code",
     "collapsed": false,
     "input": [
      "#Robert Driving Sonny Nav\n",
      "function Axb(A::Array{Float64,2},b::Array{Float64,1})\n",
      "  return A*b\n",
      "end"
     ],
     "language": "python",
     "metadata": {},
     "outputs": [
      {
       "metadata": {},
       "output_type": "pyout",
       "prompt_number": 5,
       "text": [
        "Axb (generic function with 1 method)"
       ]
      }
     ],
     "prompt_number": 5
    },
    {
     "cell_type": "code",
     "collapsed": false,
     "input": [
      "A = rand((2,2))\n",
      "b = rand((2))\n"
     ],
     "language": "python",
     "metadata": {},
     "outputs": [
      {
       "metadata": {},
       "output_type": "pyout",
       "prompt_number": 6,
       "text": [
        "2-element Array{Float64,1}:\n",
        " 0.43876 \n",
        " 0.850086"
       ]
      }
     ],
     "prompt_number": 6
    },
    {
     "cell_type": "code",
     "collapsed": false,
     "input": [
      "print(Axb(A,b),A*b)"
     ],
     "language": "python",
     "metadata": {},
     "outputs": [
      {
       "output_type": "stream",
       "stream": "stdout",
       "text": [
        "1.2015477588536392\n",
        ".5237662712907378\n"
       ]
      },
      {
       "output_type": "stream",
       "stream": "stdout",
       "text": [
        "1.2015477588536392\n",
        ".5237662712907378\n"
       ]
      }
     ],
     "prompt_number": 7
    },
    {
     "cell_type": "code",
     "collapsed": false,
     "input": [
      "#Sonny driving, Robert Nav\n",
      "function Axb_2(A::Array{Float64,2},b::Array{Float64,1})\n",
      "    x = zeros(size(b))\n",
      "    for i in 1:length(A[:,1])\n",
      "        for j in 1:length(A[1,:])\n",
      "            x[i] += A[i,j]*b[j]\n",
      "        end\n",
      "    end\n",
      "    return x\n",
      "end"
     ],
     "language": "python",
     "metadata": {},
     "outputs": [
      {
       "metadata": {},
       "output_type": "pyout",
       "prompt_number": 16,
       "text": [
        "Axb_2 (generic function with 1 method)"
       ]
      }
     ],
     "prompt_number": 16
    },
    {
     "cell_type": "code",
     "collapsed": false,
     "input": [
      "print(Axb_2(A,b),A*b)"
     ],
     "language": "python",
     "metadata": {},
     "outputs": [
      {
       "output_type": "stream",
       "stream": "stdout",
       "text": [
        "1.2015477588536392\n",
        ".5237662712907378\n"
       ]
      },
      {
       "output_type": "stream",
       "stream": "stdout",
       "text": [
        "1.2015477588536392\n",
        ".5237662712907378\n"
       ]
      }
     ],
     "prompt_number": 17
    },
    {
     "cell_type": "code",
     "collapsed": false,
     "input": [
      "#Sonny driving, Robert Nav\n",
      "function Axb_3(A::Array{Float64,2},b::Array{Float64,1})\n",
      "    x = zeros(size(b))\n",
      "    for j in 1:length(A[1,:])\n",
      "        for i in 1:length(A[:,1])\n",
      "            x[i] += A[i,j]*b[j]\n",
      "        end\n",
      "    end\n",
      "    return x\n",
      "end"
     ],
     "language": "python",
     "metadata": {},
     "outputs": [
      {
       "metadata": {},
       "output_type": "pyout",
       "prompt_number": 19,
       "text": [
        "Axb_3 (generic function with 1 method)"
       ]
      }
     ],
     "prompt_number": 19
    },
    {
     "cell_type": "code",
     "collapsed": false,
     "input": [
      "print(Axb_3(A,b),A*b)"
     ],
     "language": "python",
     "metadata": {},
     "outputs": [
      {
       "output_type": "stream",
       "stream": "stdout",
       "text": [
        "1.2015477588536392\n",
        ".5237662712907378\n"
       ]
      },
      {
       "output_type": "stream",
       "stream": "stdout",
       "text": [
        "1.2015477588536392\n",
        ".5237662712907378\n"
       ]
      }
     ],
     "prompt_number": 20
    },
    {
     "cell_type": "code",
     "collapsed": false,
     "input": [],
     "language": "python",
     "metadata": {},
     "outputs": []
    }
   ],
   "metadata": {}
  }
 ]
}