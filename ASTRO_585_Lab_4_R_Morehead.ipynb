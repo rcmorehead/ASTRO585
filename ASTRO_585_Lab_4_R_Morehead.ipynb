{
 "metadata": {
  "language": "Julia",
  "name": ""
 },
 "nbformat": 3,
 "nbformat_minor": 0,
 "worksheets": [
  {
   "cells": [
    {
     "cell_type": "markdown",
     "metadata": {},
     "source": [
      "#Lab 4 Feb 7, 2014 \n",
      "#Robert Morehead"
     ]
    },
    {
     "cell_type": "markdown",
     "metadata": {},
     "source": [
      "##1a.\n",
      "Let's use Eric's code and the crummy code written by the clearly untalented student. "
     ]
    },
    {
     "cell_type": "code",
     "collapsed": false,
     "input": [
      "include(\"CLASS_REPO/Astro585/lab4/HW4_leapfrog.jl\")\n",
      "include(\"CLASS_REPO/Astro585/lab4/HW4_leapfrog_student.jl\")"
     ],
     "language": "python",
     "metadata": {},
     "outputs": [
      {
       "metadata": {},
       "output_type": "pyout",
       "prompt_number": 3,
       "text": [
        "test_leapfrog_student (generic function with 2 methods)"
       ]
      }
     ],
     "prompt_number": 3
    },
    {
     "cell_type": "markdown",
     "metadata": {},
     "source": [
      "##2b."
     ]
    },
    {
     "cell_type": "code",
     "collapsed": false,
     "input": [],
     "language": "python",
     "metadata": {},
     "outputs": []
    }
   ],
   "metadata": {}
  }
 ]
}