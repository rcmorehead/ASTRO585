{
 "metadata": {
  "language": "Julia",
  "name": ""
 },
 "nbformat": 3,
 "nbformat_minor": 0,
 "worksheets": [
  {
   "cells": [
    {
     "cell_type": "markdown",
     "metadata": {},
     "source": [
      "#Lab 4 Feb 7, 2014 \n",
      "#Robert Morehead"
     ]
    },
    {
     "cell_type": "markdown",
     "metadata": {},
     "source": [
      "##1a.\n",
      "Let's use Eric's code and the crummy code written by the clearly untalented student. "
     ]
    },
    {
     "cell_type": "code",
     "collapsed": false,
     "input": [
      "include(\"CLASS_REPO/Astro585/lab4/HW4_leapfrog.jl\")\n",
      "include(\"CLASS_REPO/Astro585/lab4/HW4_leapfrog_student.jl\")"
     ],
     "language": "python",
     "metadata": {},
     "outputs": [
      {
       "metadata": {},
       "output_type": "pyout",
       "prompt_number": 1,
       "text": [
        "test_leapfrog_student (generic function with 2 methods)"
       ]
      }
     ],
     "prompt_number": 1
    },
    {
     "cell_type": "markdown",
     "metadata": {},
     "source": [
      "##1b.\n",
      "I suspect the memory re-allocation for the log array due to the vcat() calls each loop is what made this so terrible. "
     ]
    },
    {
     "cell_type": "markdown",
     "metadata": {},
     "source": [
      "##1c."
     ]
    },
    {
     "cell_type": "code",
     "collapsed": false,
     "input": [
      "Profile.clear()\n",
      "for i in 0:50\n",
      "    @profile orbit = integrate_leapfrog!([1.0,0.0,00.0,1.0],2pi/200,6pi);\n",
      "    #println(\"X:\",orbit[1][end],\" Y:\",orbit[2][end],\" Vx:\",orbit[3][end],\" Vy:\",orbit[4][end])\n",
      "end\n",
      "Profile.print()"
     ],
     "language": "python",
     "metadata": {},
     "outputs": [
      {
       "output_type": "stream",
       "stream": "stderr",
       "text": [
        "WARNING: the profile data buffer is full; profiling probably terminated\n",
        "before your program finished. To profile for longer runs, call Profile.init()\n",
        "with a larger buffer and/or larger delay."
       ]
      },
      {
       "output_type": "stream",
       "stream": "stderr",
       "text": [
        "\n"
       ]
      },
      {
       "output_type": "stream",
       "stream": "stdout",
       "text": [
        "15    .../lab4/HW4_leapfrog.jl; advance_leapfrog!; line: 46\n"
       ]
      },
      {
       "output_type": "stream",
       "stream": "stdout",
       "text": [
        "19    .../lab4/HW4_leapfrog.jl; update_derivs_pos!; line: 6\n",
        "32    .../lab4/HW4_leapfrog.jl; update_derivs_vel!; line: 18\n",
        "2     abstractarray.jl; checkbounds; line: 63\n",
        "2     abstractarray.jl; checkbounds; line: 95\n",
        "23    abstractarray.jl; trailingsize; line: 54\n",
        "14    array.jl; copy!; line: 48\n",
        "25    array.jl; getindex; line: 342\n",
        "25    array.jl; setindex!; line: 453\n",
        "11    array.jl; unsafe_copy!; line: 31\n",
        "6     array.jl; unsafe_copy!; line: 38\n",
        "6     deepcopy.jl; _deepcopy_array_t; line: 52\n",
        "4     deepcopy.jl; deepcopy_internal; line: 45\n",
        "9     int.jl; <; line: 228\n",
        "10    operators.jl; >; line: 19\n",
        "21    range.jl; Range1; line: 27\n",
        "165   range.jl; colon; line: 38\n",
        "1     range.jl; maximum; line: 101\n",
        "13    range.jl; minimum; line: 100\n",
        "1     reflection.jl; isbits; line: 36\n",
        "    34504 multi.jl; anonymous; line: 1308\n",
        "      34504 ...Julia/src/IJulia.jl; eventloop; line: 68\n",
        "         34504 ...xecute_request.jl; execute_request_0x535c5df2; line: 132\n",
        "           34504 loading.jl; include_string; line: 83\n",
        "               1     no file; anonymous; line: 9\n",
        "               1     no file; anonymous; line: 10\n",
        "               34502 no file; anonymous; line: 14\n",
        "                4     ...HW4_leapfrog.jl; integrate_leapfrog!; line: 70\n",
        "                1     ...HW4_leapfrog.jl; integrate_leapfrog!; line: 74\n",
        "                 1 .../HW4_leapfrog.jl; update_derivs!; line: 36\n",
        "                  1 .../HW4_leapfrog.jl; update_derivs_vel!; line: 21\n",
        "                39    ...HW4_leapfrog.jl; integrate_leapfrog!; line: 78\n",
        "                 1 deepcopy.jl; deepcopy_internal; line: 46\n",
        "                  1 deepcopy.jl; _deepcopy_array_t; line: 52\n",
        "                   1 array.jl; setindex!; line: 454\n",
        "                    1 abstractarray.jl; checkbounds; line: 96\n",
        "                     1 abstractarray.jl; checkbounds; line: 74\n",
        "                   2 array.jl; setindex!; line: 465\n",
        "                4     ...HW4_leapfrog.jl; integrate_leapfrog!; line: 82\n",
        "                29    ...HW4_leapfrog.jl; integrate_leapfrog!; line: 84\n",
        "                15221 ...HW4_leapfrog.jl; integrate_leapfrog!; line: 87\n",
        "                      116  ...4_leapfrog.jl; advance_leapfrog!; line: 46\n",
        "                      55   ...4_leapfrog.jl; advance_leapfrog!; line: 49\n",
        "                      2683 ...4_leapfrog.jl; advance_leapfrog!; line: 51\n",
        "                       74   range.jl; colon; line: 38\n",
        "                        13 range.jl; Range1; line: 27\n",
        "                        34 range.jl; Range1; line: 28\n",
        "                      482  ...4_leapfrog.jl; advance_leapfrog!; line: 52\n",
        "                       65 ...4_leapfrog.jl; update_derivs_vel!; line: 18\n",
        "                       6  ...4_leapfrog.jl; update_derivs_vel!; line: 19\n",
        "                       38 ...4_leapfrog.jl; update_derivs_vel!; line: 21\n",
        "                       9  ...4_leapfrog.jl; update_derivs_vel!; line: 22\n",
        "                       30 ...4_leapfrog.jl; update_derivs_vel!; line: 23\n",
        "                       37 ...4_leapfrog.jl; update_derivs_vel!; line: 24\n",
        "                       61 ...4_leapfrog.jl; update_derivs_vel!; line: 25\n",
        "                       70 ...4_leapfrog.jl; update_derivs_vel!; line: 26\n",
        "                       63 ...4_leapfrog.jl; update_derivs_vel!; line: 27\n",
        "                       42 ...4_leapfrog.jl; update_derivs_vel!; line: 28\n",
        "                       16 ...4_leapfrog.jl; update_derivs_vel!; line: 29\n",
        "                      2380 ...4_leapfrog.jl; advance_leapfrog!; line: 53\n",
        "                       1    range.jl; Range1; line: 28\n",
        "                       40   range.jl; colon; line: 38\n",
        "                        6 range.jl; Range1; line: 27\n",
        "                        3 range.jl; Range1; line: 28\n",
        "                      91   ...4_leapfrog.jl; advance_leapfrog!; line: 54\n",
        "                       22 ...4_leapfrog.jl; update_derivs_pos!; line: 6\n",
        "                       7  ...4_leapfrog.jl; update_derivs_pos!; line: 7\n",
        "                       37 ...4_leapfrog.jl; update_derivs_pos!; line: 8\n",
        "                       4  ...4_leapfrog.jl; update_derivs_pos!; line: 9\n",
        "                       1  ...4_leapfrog.jl; update_derivs_pos!; line: 10\n",
        "                       5  ...4_leapfrog.jl; update_derivs_pos!; line: 11\n",
        "                      2577 ...4_leapfrog.jl; advance_leapfrog!; line: 55\n",
        "                       60   range.jl; colon; line: 38\n",
        "                        6 range.jl; Range1; line: 27\n",
        "                        1 range.jl; Range1; line: 28\n",
        "                      8    range.jl; colon; line: 38\n",
        "                4     ...HW4_leapfrog.jl; integrate_leapfrog!; line: 88\n",
        "                79    ...HW4_leapfrog.jl; integrate_leapfrog!; line: 91\n",
        "                6     ...HW4_leapfrog.jl; integrate_leapfrog!; line: 93\n",
        "                3006  ...HW4_leapfrog.jl; integrate_leapfrog!; line: 94\n",
        "                 174  abstractarray.jl; trailingsize; line: 54\n",
        "                 2790 array.jl; getindex; line: 342\n",
        "                 7    range.jl; Range1; line: 28\n",
        "                 24   range.jl; colon; line: 38\n",
        "                  1 range.jl; Range1; line: 27\n",
        "                  1 range.jl; Range1; line: 28\n",
        "                16040 ...HW4_leapfrog.jl; integrate_leapfrog!; line: 95\n",
        "                 49    abstractarray.jl; trailingsize; line: 54\n",
        "                 1635  deepcopy.jl; deepcopy_internal; line: 45\n",
        "                 3659  deepcopy.jl; deepcopy_internal; line: 46\n",
        "                  5    array.jl; copy!; line: 51\n",
        "                  2210 deepcopy.jl; _deepcopy_array_t; line: 52\n",
        "                     167 reflection.jl; isbits; line: 36\n",
        "                  279  deepcopy.jl; _deepcopy_array_t; line: 53\n",
        "                   80  array.jl; copy!; line: 48\n",
        "                   159 array.jl; copy!; line: 51\n",
        "                    154 array.jl; unsafe_copy!; line: 38\n",
        "                     40 array.jl; unsafe_copy!; line: 31\n",
        "                     47 array.jl; unsafe_copy!; line: 33\n",
        "                    1   array.jl; unsafe_copy!; line: 44\n",
        "                  1072 deepcopy.jl; _deepcopy_array_t; line: 55\n",
        "                  53   deepcopy.jl; _deepcopy_array_t; line: 62\n",
        "                 29    deepcopy.jl; deepcopy_internal; line: 48\n",
        "                 15    range.jl; Range1; line: 28\n",
        "                 37    range.jl; colon; line: 38\n",
        "                  10 range.jl; Range1; line: 27\n",
        "                  11 range.jl; Range1; line: 28\n",
        "                   33   array.jl; setindex!; line: 453\n",
        "                   4154 array.jl; setindex!; line: 454\n",
        "                    4    abstractarray.jl; checkbounds; line: 63\n",
        "                    85   abstractarray.jl; checkbounds; line: 95\n",
        "                     46 abstractarray.jl; checkbounds; line: 63\n",
        "                    4046 abstractarray.jl; checkbounds; line: 96\n",
        "                     4010 abstractarray.jl; checkbounds; line: 74\n",
        "                      94   range.jl; maximum; line: 101\n",
        "                      151  range.jl; minimum; line: 100\n",
        "                       2    int.jl; <; line: 228\n",
        "                        87 int.jl; <; line: 228\n",
        "                        57 operators.jl; >; line: 19\n",
        "                     1    abstractarray.jl; checkbounds; line: 75\n",
        "                     2    range.jl; minimum; line: 100\n",
        "                   30   array.jl; setindex!; line: 462\n",
        "                   17   array.jl; setindex!; line: 464\n",
        "                   921  array.jl; setindex!; line: 465\n",
        "                   8    array.jl; setindex!; line: 469\n",
        "                1     abstractarray.jl; trailingsize; line: 56\n",
        "                4     abstractarray.jl; vcat; line: 706\n",
        "                11    deepcopy.jl; deepcopy_internal; line: 46\n"
       ]
      }
     ],
     "prompt_number": 11
    },
    {
     "cell_type": "code",
     "collapsed": false,
     "input": [
      "Profile.clear()\n",
      "for i in 0:50\n",
      "    @profile orbit = integrate_leapfrog_student([1.0,0.0,0.0,1.0],2pi/200,6pi);\n",
      "    #println(\"X:\",orbit[1][end],\" Y:\",orbit[2][end],\" Vx:\",orbit[3][end],\" Vy:\",orbit[4][end])\n",
      "end\n",
      "Profile.print()"
     ],
     "language": "python",
     "metadata": {},
     "outputs": [
      {
       "output_type": "stream",
       "stream": "stderr",
       "text": [
        "WARNING: the profile data buffer is full; profiling probably terminated\n",
        "before your program finished. To profile for longer runs, call Profile.init()\n",
        "with a larger buffer and/or larger delay."
       ]
      },
      {
       "output_type": "stream",
       "stream": "stderr",
       "text": [
        "\n"
       ]
      },
      {
       "output_type": "stream",
       "stream": "stdout",
       "text": [
        "1    abstractarray.jl; vcat; line: 706\n"
       ]
      },
      {
       "output_type": "stream",
       "stream": "stdout",
       "text": [
        "1    range.jl; colon; line: 38\n",
        "    8887 multi.jl; anonymous; line: 1308\n",
        "      8887 ...Julia/src/IJulia.jl; eventloop; line: 68\n",
        "         8887 ...execute_request.jl; execute_request_0x535c5df2; line: 132\n",
        "           8887 loading.jl; include_string; line: 83\n",
        "               8887 no file; anonymous; line: 14\n",
        "                75   ...frog_student.jl; integrate_leapfrog_student; line: 31\n",
        "                 2  ...pfrog_student.jl; leapfrog_update_pos; line: 11\n",
        "                 73 ...pfrog_student.jl; leapfrog_update_pos; line: 13\n",
        "                  13 abstractarray.jl; vcat; line: 706\n",
        "                   1  range.jl; colon; line: 38\n",
        "                9    ...frog_student.jl; integrate_leapfrog_student; line: 32\n",
        "                 9 ...apfrog_student.jl; derrivatives; line: 7\n",
        "                  8 abstractarray.jl; vcat; line: 706\n",
        "                12   ...frog_student.jl; integrate_leapfrog_student; line: 33\n",
        "                 1  ...pfrog_student.jl; leapfrog_update_both; line: 18\n",
        "                 11 ...pfrog_student.jl; leapfrog_update_both; line: 20\n",
        "                  9 abstractarray.jl; vcat; line: 706\n",
        "                62   ...frog_student.jl; integrate_leapfrog_student; line: 36\n",
        "                 6  abstractarray.jl; vcat; line: 706\n",
        "                  36 abstractarray.jl; vcat; line: 925\n",
        "                    1  abstractarray.jl; cat_t; line: 871\n",
        "                      1 tuple.jl; map; line: 40\n",
        "                    2  abstractarray.jl; cat_t; line: 875\n",
        "                    1  abstractarray.jl; cat_t; line: 882\n",
        "                    2  abstractarray.jl; cat_t; line: 893\n",
        "                    29 abstractarray.jl; cat_t; line: 912\n",
        "                       18 tuple.jl; ntuple; line: 25\n",
        "                        18 tuple.jl; ntuple; line: 26\n",
        "                          6  ...ractarray.jl; compute_dims; line: 897\n",
        "                    1  abstractarray.jl; cat_t; line: 919\n",
        "                       1 base.jl; append_any; line: 110\n",
        "                  1  array.jl; vcat; line: 1161\n",
        "                  12 array.jl; vcat; line: 1164\n",
        "                  1  array.jl; vcat; line: 1174\n",
        "                47   ...frog_student.jl; integrate_leapfrog_student; line: 37\n",
        "                 24 abstractarray.jl; vcat; line: 706\n",
        "                  1  abstractarray.jl; vcat; line: 925\n",
        "                    1 abstractarray.jl; cat_t; line: 919\n",
        "                       1 base.jl; append_any; line: 110\n",
        "                  1  array.jl; vcat; line: 1160\n",
        "                  1  array.jl; vcat; line: 1161\n",
        "                  16 array.jl; vcat; line: 1164\n",
        "                  1  array.jl; vcat; line: 1172\n",
        "                605  ...frog_student.jl; integrate_leapfrog_student; line: 38\n",
        "                 8   abstractarray.jl; vcat; line: 706\n",
        "                  1 range.jl; colon; line: 38\n",
        "                   1 range.jl; Range1; line: 27\n",
        "                  6   abstractarray.jl; vcat; line: 925\n",
        "                    6 abstractarray.jl; cat_t; line: 918\n",
        "                       2 base.jl; Array; line: 149\n",
        "                  1   array.jl; vcat; line: 1160\n",
        "                  12  array.jl; vcat; line: 1164\n",
        "                  1   array.jl; vcat; line: 1178\n",
        "                8077 ...frog_student.jl; integrate_leapfrog_student; line: 39\n",
        "                 12   abstractarray.jl; vcat; line: 706\n",
        "                  10   abstractarray.jl; vcat; line: 925\n",
        "                    10 abstractarray.jl; cat_t; line: 919\n",
        "                       10 base.jl; append_any; line: 110\n",
        "                  1    array.jl; vcat; line: 1160\n",
        "                  1    array.jl; vcat; line: 1161\n",
        "                  24   array.jl; vcat; line: 1164\n"
       ]
      }
     ],
     "prompt_number": 12
    },
    {
     "cell_type": "markdown",
     "metadata": {},
     "source": [
      "##1d.\n",
      "Yep it was the vcat calls, interesting how the increase by ~an order of magnitude in each successive line. Your code spends most of it's time on the deepcopy at line 95\n"
     ]
    },
    {
     "cell_type": "markdown",
     "metadata": {},
     "source": [
      "##1e.\n",
      "Pre-allocating the log array might help, changing a value should be a much cheaper process. "
     ]
    },
    {
     "cell_type": "markdown",
     "metadata": {},
     "source": [
      "#2 \n",
      "---"
     ]
    },
    {
     "cell_type": "markdown",
     "metadata": {},
     "source": [
      "##2a."
     ]
    },
    {
     "cell_type": "code",
     "collapsed": false,
     "input": [],
     "language": "python",
     "metadata": {},
     "outputs": []
    }
   ],
   "metadata": {}
  }
 ]
}