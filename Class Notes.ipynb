{
 "metadata": {
  "language": "Julia",
  "name": ""
 },
 "nbformat": 3,
 "nbformat_minor": 0,
 "worksheets": [
  {
   "cells": [
    {
     "cell_type": "heading",
     "level": 1,
     "metadata": {},
     "source": [
      "Class 1: Jan 13, 2014\n"
     ]
    },
    {
     "cell_type": "markdown",
     "metadata": {},
     "source": [
      "Plan for the future\n",
      "\n",
      "Big Data, Data Science, Cyberscience, Data Mining"
     ]
    },
    {
     "cell_type": "markdown",
     "metadata": {},
     "source": [
      "#Class II Jan 15, 2014"
     ]
    },
    {
     "cell_type": "markdown",
     "metadata": {},
     "source": [
      "using logs of a number is a good idea to make floats smaller\n",
      "\n",
      "##debugging\n",
      "add a small epsolian<br>\n",
      "change precision to test  \n",
      "change rounding method to see if rounding errors are happening \n",
      "\n",
      "Sometimes single precision is useful, even now. (high memory applications, better data repersation, GPUs, etc.)\n"
     ]
    },
    {
     "cell_type": "markdown",
     "metadata": {},
     "source": [
      "#Get it right then optimize it. But always plan to optimize it later. "
     ]
    },
    {
     "cell_type": "markdown",
     "metadata": {},
     "source": [
      "#Class III Jan 22, 2014"
     ]
    },
    {
     "cell_type": "markdown",
     "metadata": {},
     "source": [
      "#Class 4 Jan 27, 2014"
     ]
    },
    {
     "cell_type": "markdown",
     "metadata": {},
     "source": [
      "#Class 5 Jan 29, 2014"
     ]
    },
    {
     "cell_type": "markdown",
     "metadata": {},
     "source": [
      "Simple assertaions are more efficient, do work before the assertion \n"
     ]
    },
    {
     "cell_type": "code",
     "collapsed": false,
     "input": [],
     "language": "python",
     "metadata": {},
     "outputs": []
    }
   ],
   "metadata": {}
  }
 ]
}