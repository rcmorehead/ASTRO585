{
 "metadata": {
  "language": "Julia",
  "name": ""
 },
 "nbformat": 3,
 "nbformat_minor": 0,
 "worksheets": [
  {
   "cells": [
    {
     "cell_type": "markdown",
     "metadata": {},
     "source": [
      "##Robert Morehead\n",
      "##Homework 1"
     ]
    },
    {
     "cell_type": "markdown",
     "metadata": {},
     "source": [
      "##1.\n",
      "I got julia, julia studio and ijulia + notebook working on my system. I don't plan on using the lab computer.  "
     ]
    },
    {
     "cell_type": "markdown",
     "metadata": {},
     "source": [
      "##2a."
     ]
    },
    {
     "cell_type": "code",
     "collapsed": false,
     "input": [
      "#Code from exercise\n",
      "srand(42)\n",
      "N = 10000\n",
      "true_mean = 10000.\n",
      "y = true_mean+randn(N)\n",
      "\n",
      "sample_mean = mean(y)\n",
      "sample_var = var(y)\n",
      "println(\"Mean: \",sample_mean,\"  Varience: \",sample_var)"
     ],
     "language": "python",
     "metadata": {},
     "outputs": [
      {
       "output_type": "stream",
       "stream": "stdout",
       "text": [
        "Mean: 9999"
       ]
      },
      {
       "output_type": "stream",
       "stream": "stdout",
       "text": [
        ".998011659798  Varience: 1.0199227833780644\n"
       ]
      }
     ],
     "prompt_number": 1
    },
    {
     "cell_type": "markdown",
     "metadata": {},
     "source": [
      "##2b."
     ]
    },
    {
     "cell_type": "code",
     "collapsed": false,
     "input": [
      "function mean_and_var(y,sample_mean,sample_var) #made this a function for part 2d.\n",
      "y32bit = convert(Array{Float32,1},y);\n",
      "y16bit = convert(Array{Float16,1},y);\n",
      "mean32,var32 = mean(y32bit),var(y32bit)\n",
      "mean16,var16 = mean(y16bit),var(y16bit)\n",
      "\n",
      "println(\"64 bit mean: \",sample_mean,\" var: \",sample_var)\n",
      "println()\n",
      "println(\"32 bit mean: \",mean32,\" var: \",var32)\n",
      "println(\"dif mean: \",sample_mean-mean32,\" dif var: \",sample_var-var32)\n",
      "println(\"error mean: \",(sample_mean-mean32)/sample_mean,\" error var: \",(sample_var-var32)/sample_var)\n",
      "println()\n",
      "println(\"16 bit mean: \",mean16,\" var: \",var16)\n",
      "println(\"dif mean: \",sample_mean-mean16,\" dif var: \",sample_var-var16)\n",
      "println(\"error mean: \",(sample_mean-mean16)/sample_mean,\" error var: \",(sample_var-var16)/sample_var)\n",
      "end \n",
      "\n",
      "mean_and_var(y,sample_mean,sample_var)"
     ],
     "language": "python",
     "metadata": {},
     "outputs": [
      {
       "output_type": "stream",
       "stream": "stdout",
       "text": [
        "64 bit mean: "
       ]
      },
      {
       "output_type": "stream",
       "stream": "stdout",
       "text": [
        "9999.998011659798 var: 1.0199227833780644\n",
        "\n",
        "32 bit mean: 9999.998 var: 1.0199206\n",
        "dif mean: -3.521520193316974e-5 dif var: 2.1958383915610113e-6\n",
        "error mean: -3.52152089351513e-9 error var: 2.152945720349752e-6\n",
        "\n",
        "16 bit mean: 9995.983 var: 16.001316\n",
        "dif mean: 4.014613222298067 dif var: -14.981393287178577\n",
        "error mean: 0.0004014614020539912 error var: -14.688752453944625\n"
       ]
      }
     ],
     "prompt_number": 2
    },
    {
     "cell_type": "markdown",
     "metadata": {},
     "source": [
      "The 32 bit array has a \"small\" difference compared to the 64 bit array (e-5, e-6), while the 16 bit array results in a very large difference. The error is increasing in the varience calculation faster because the rounding errors are being squared, also there may be catastrophic cancellation in the the varience calculation (it contains a subtraction) whin the random error is small.  "
     ]
    },
    {
     "cell_type": "markdown",
     "metadata": {},
     "source": [
      "##2c.\n",
      "Increasing N to $10^5$ should increase the errors in both 32 and 16 bits cases as there are more evaluations for rounding errors to accululate.\n",
      "\n",
      "The relative error will be smaller in the $\\mu = 10^5$ case, because $\\mu$ is larger. The absolute difference should stay the same. "
     ]
    },
    {
     "cell_type": "markdown",
     "metadata": {},
     "source": [
      "##2d."
     ]
    },
    {
     "cell_type": "code",
     "collapsed": false,
     "input": [
      "#CASE 1\n",
      "#Code from exercise\n",
      "srand(42)\n",
      "N = 100000\n",
      "true_mean = 10000.\n",
      "y = true_mean+randn(N)\n",
      "\n",
      "sample_mean = mean(y)\n",
      "sample_var = var(y)\n",
      "\n",
      "\n",
      "mean_and_var(y,sample_mean,sample_var)"
     ],
     "language": "python",
     "metadata": {},
     "outputs": [
      {
       "output_type": "stream",
       "stream": "stdout",
       "text": [
        "64 bit mean: 10000.0031598515 var: 1.0088883985077686\n",
        "\n",
        "32 bit mean: 10000.003 var: 1.0088867\n",
        "dif mean: 0.0002301639997313032 dif var: 1.7035996264791464e-6\n",
        "error mean: 2.301639270029202e-8 error var: 1.6885907588975298e-6\n",
        "\n",
        "16 bit mean: 9996.01 var: 16.000065\n",
        "dif mean: 3.9933942264997313 dif var: -14.991176451345748\n",
        "error mean: 0.00039933929646468567 error var: -14.859102823978318\n"
       ]
      }
     ],
     "prompt_number": 3
    },
    {
     "cell_type": "code",
     "collapsed": false,
     "input": [
      "#CASE 2\n",
      "#Code from exercise\n",
      "srand(42)\n",
      "N = 10000\n",
      "true_mean = 100000.\n",
      "y = true_mean+randn(N)\n",
      "\n",
      "sample_mean = mean(y)\n",
      "sample_var = var(y)\n",
      "\n",
      "\n",
      "mean_and_var(y,sample_mean,sample_var)"
     ],
     "language": "python",
     "metadata": {},
     "outputs": [
      {
       "output_type": "stream",
       "stream": "stdout",
       "text": [
        "64 bit mean: 99999.9980116598 var: 1.0199227833780122\n",
        "\n",
        "32 bit mean: 100000.0 var: 1.0200287\n",
        "dif mean: -0.001988340198295191 dif var: -0.00010592698728317806\n",
        "error mean: -1.9883402378301593e-8 error var: -0.00010385784983873483\n",
        "\n",
        "16 bit mean: Inf var: NaN\n",
        "dif mean: -Inf dif var: NaN\n",
        "error mean: -Inf error var: NaN\n"
       ]
      }
     ],
     "prompt_number": 4
    },
    {
     "cell_type": "markdown",
     "metadata": {},
     "source": [
      "Ah, nice one! In case two it looks like we hit an overflow in the $\\mu$ calculation. I will blame always working in double precision for not seeing that one comming. \n",
      "\n",
      "In case one, the errors slightly improved, rather than getting worse. Maybe the rounding is calleling out, and I got lucky? A quick change in random seed doesn't see to support this. The law of large numbers at play? Maybe, the floating point errors are just another source of random error. So yeah I a going to go with that. \n",
      "\n"
     ]
    },
    {
     "cell_type": "markdown",
     "metadata": {},
     "source": [
      "##2e.\n",
      "1. Be aware of the range of values allowed by your precision level.\n",
      "2. Be mindful of floating point arithmitic when designing algorithms. \n",
      "3. When working with random samples, bigger is better (most of the time)  "
     ]
    },
    {
     "cell_type": "markdown",
     "metadata": {},
     "source": [
      "##3a."
     ]
    },
    {
     "cell_type": "code",
     "collapsed": false,
     "input": [
      "srand(42)\n",
      "N = 1000000\n",
      "true_mean = 1e6\n",
      "y = true_mean+randn(N);"
     ],
     "language": "python",
     "metadata": {},
     "outputs": [],
     "prompt_number": 4
    },
    {
     "cell_type": "markdown",
     "metadata": {},
     "source": [
      "$m = 1/N \\times \\sum_{i=1}^{N} y_i$ \n",
      "\n",
      "$s^2 = 1/(N-1) \\times \\sum_{i=1}^N (y_i-m)^2 = 1/(N-1)  \\times \\left[ \\left( \\sum_{i=1}^N y_i^2 \\right) - N m^2 \\right]$\n",
      "\n",
      "Note: A quick glance at http://en.wikipedia.org/wiki/Algorithms_for_calculating_variance cleared up my confusion on what was meant by \"one-pass\" vs. \"two-pass\". "
     ]
    },
    {
     "cell_type": "code",
     "collapsed": false,
     "input": [
      "function onepass(y::Array)\n",
      "\n",
      "  N = length(y)\n",
      "  sUm = zero(y[1]) #oopse this killed the built in sum function\n",
      "  sUm_squared = zero(y[1])\n",
      "  \n",
      "  for i in 1:N\n",
      "    sUm = sUm + y[i]\n",
      "    sUm_squared = sUm_squared + y[i]^2\n",
      "  end \n",
      "  \n",
      "  return (sUm_squared - sUm^2/N)*(1/(N-1))\n",
      "\n",
      "end"
     ],
     "language": "python",
     "metadata": {},
     "outputs": [
      {
       "metadata": {},
       "output_type": "pyout",
       "prompt_number": 5,
       "text": [
        "onepass (generic function with 1 method)"
       ]
      }
     ],
     "prompt_number": 5
    },
    {
     "cell_type": "code",
     "collapsed": false,
     "input": [
      "onepass(y)"
     ],
     "language": "python",
     "metadata": {},
     "outputs": [
      {
       "metadata": {},
       "output_type": "pyout",
       "prompt_number": 6,
       "text": [
        "0.9094409094409094"
       ]
      }
     ],
     "prompt_number": 6
    },
    {
     "cell_type": "markdown",
     "metadata": {},
     "source": [
      "##3b."
     ]
    },
    {
     "cell_type": "code",
     "collapsed": false,
     "input": [
      "function twopass(y::Array)\n",
      "  N = length(y)\n",
      "  sUm = zero(y[1]) #oopse this killed the built in sum function\n",
      "  sUm_squared = zero(y[1])  \n",
      "  \n",
      "  for i in 1:N\n",
      "    sUm = sUm + y[i]\n",
      "  end\n",
      "  \n",
      "  m = sUm/N\n",
      "    \n",
      "  for i in 1:N\n",
      "    sUm_squared = sUm_squared + (y[i]-m)^2\n",
      "  end\n",
      "  return (sUm_squared)*(1/(N-1))\n",
      "\n",
      "end"
     ],
     "language": "python",
     "metadata": {},
     "outputs": [
      {
       "metadata": {},
       "output_type": "pyout",
       "prompt_number": 7,
       "text": [
        "twopass (generic function with 1 method)"
       ]
      }
     ],
     "prompt_number": 7
    },
    {
     "cell_type": "markdown",
     "metadata": {},
     "source": [
      "##3c."
     ]
    },
    {
     "cell_type": "code",
     "collapsed": false,
     "input": [
      "println(\"One pass: \",onepass(y),\", Two pass:\", twopass(y),\", Julia var(): \",var(y))\n",
      "println(\"One pass error: \",(var(y)-onepass(y))/var(y),\", Two pass error:\", (var(y)-twopass(y))/var(y))"
     ],
     "language": "python",
     "metadata": {},
     "outputs": [
      {
       "output_type": "stream",
       "stream": "stdout",
       "text": [
        "One pass: "
       ]
      },
      {
       "output_type": "stream",
       "stream": "stdout",
       "text": [
        "0.9094409094409094, Two pass:1.001568444572786, Julia var(): 1.0015684445727868\n",
        "One pass error: 0.0919832644799167, Two pass error:8.867875425917323e-16\n"
       ]
      }
     ],
     "prompt_number": 8
    },
    {
     "cell_type": "code",
     "collapsed": false,
     "input": [],
     "language": "python",
     "metadata": {},
     "outputs": [
      {
       "ename": "LoadError",
       "evalue": "PyError (PyObject_Call) <type 'exceptions.ValueError'>\nValueError('third arg must be a format string',)\n  File \"/Users/Robert/anaconda/lib/python2.7/site-packages/matplotlib/pyplot.py\", line 2832, in plot\n    ret = ax.plot(*args, **kwargs)\n  File \"/Users/Robert/anaconda/lib/python2.7/site-packages/matplotlib/axes.py\", line 3996, in plot\n    for line in self._get_lines(*args, **kwargs):\n  File \"/Users/Robert/anaconda/lib/python2.7/site-packages/matplotlib/axes.py\", line 330, in _grab_next_args\n    for seg in self._plot_args(remaining, kwargs):\n  File \"/Users/Robert/anaconda/lib/python2.7/site-packages/matplotlib/axes.py\", line 292, in _plot_args\n    raise ValueError('third arg must be a format string')\n\nat In[15]:2",
       "output_type": "pyerr",
       "traceback": [
        "PyError (PyObject_Call) <type 'exceptions.ValueError'>\nValueError('third arg must be a format string',)\n  File \"/Users/Robert/anaconda/lib/python2.7/site-packages/matplotlib/pyplot.py\", line 2832, in plot\n    ret = ax.plot(*args, **kwargs)\n  File \"/Users/Robert/anaconda/lib/python2.7/site-packages/matplotlib/axes.py\", line 3996, in plot\n    for line in self._get_lines(*args, **kwargs):\n  File \"/Users/Robert/anaconda/lib/python2.7/site-packages/matplotlib/axes.py\", line 330, in _grab_next_args\n    for seg in self._plot_args(remaining, kwargs):\n  File \"/Users/Robert/anaconda/lib/python2.7/site-packages/matplotlib/axes.py\", line 292, in _plot_args\n    raise ValueError('third arg must be a format string')\n\nat In[15]:2",
        " in getindex at /Users/Robert/.julia/PyCall/src/PyCall.jl:566",
        " in pysequence_query at /Users/Robert/.julia/PyCall/src/conversions.jl:741",
        " in pytype_query at /Users/Robert/.julia/PyCall/src/conversions.jl:754",
        " in convert at /Users/Robert/.julia/PyCall/src/conversions.jl:803",
        " in pycall at /Users/Robert/.julia/PyCall/src/PyCall.jl:728",
        " in fn at /Users/Robert/.julia/PyCall/src/conversions.jl:181",
        " in anonymous at /Users/Robert/.julia/PyPlot/src/PyPlot.jl:188"
       ]
      }
     ],
     "prompt_number": 15
    },
    {
     "cell_type": "code",
     "collapsed": false,
     "input": [],
     "language": "python",
     "metadata": {},
     "outputs": [
      {
       "output_type": "stream",
       "stream": "stderr",
       "text": [
        "Warning: Possible conflict in library symbol dtrtri_\n",
        "Warning: Possible conflict in library symbol dgetri_\n",
        "Warning: Possible conflict in library symbol dgetrf_\n"
       ]
      }
     ],
     "prompt_number": 10
    }
   ],
   "metadata": {}
  }
 ]
}