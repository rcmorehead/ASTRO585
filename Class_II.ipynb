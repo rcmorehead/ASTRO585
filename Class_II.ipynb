{
 "metadata": {
  "language": "Julia",
  "name": ""
 },
 "nbformat": 3,
 "nbformat_minor": 0,
 "worksheets": [
  {
   "cells": [
    {
     "cell_type": "markdown",
     "metadata": {},
     "source": [
      "#Class II Jan 15, 2014"
     ]
    },
    {
     "cell_type": "markdown",
     "metadata": {},
     "source": [
      "using logs of a number is a good idea to make floats smaller\n",
      "\n",
      "##debugging\n",
      "add a small epsolian<br>\n",
      "change precision to test  \n",
      "change rounding method to see if rounding errors are happening \n",
      "\n",
      "Sometimes single precision is useful, even now. (high memory applications, better data repersation, GPUs, etc.)\n"
     ]
    },
    {
     "cell_type": "markdown",
     "metadata": {},
     "source": [
      "#Get it right then optimize it. But always plan to optimize it later. "
     ]
    },
    {
     "cell_type": "code",
     "collapsed": false,
     "input": [],
     "language": "python",
     "metadata": {},
     "outputs": []
    }
   ],
   "metadata": {}
  }
 ]
}